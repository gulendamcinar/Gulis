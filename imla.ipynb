{
  "nbformat": 4,
  "nbformat_minor": 0,
  "metadata": {
    "colab": {
      "provenance": [],
      "mount_file_id": "12vDAUbXN54Njj5mq10BmjWoBDIEWOJAu",
      "authorship_tag": "ABX9TyNPzMusc99BrEezRtH5o6YN",
      "include_colab_link": true
    },
    "kernelspec": {
      "name": "python3",
      "display_name": "Python 3"
    },
    "language_info": {
      "name": "python"
    }
  },
  "cells": [
    {
      "cell_type": "markdown",
      "metadata": {
        "id": "view-in-github",
        "colab_type": "text"
      },
      "source": [
        "<a href=\"https://colab.research.google.com/github/orcunmadran/hu-bby162-2024/blob/main/imla.ipynb\" target=\"_parent\"><img src=\"https://colab.research.google.com/assets/colab-badge.svg\" alt=\"Open In Colab\"/></a>"
      ]
    },
    {
      "cell_type": "code",
      "execution_count": 17,
      "metadata": {
        "colab": {
          "base_uri": "https://localhost:8080/"
        },
        "id": "CLE3pCHIclpi",
        "outputId": "997d0d77-837b-4526-e011-befcdb1c01f4"
      },
      "outputs": [
        {
          "output_type": "stream",
          "name": "stdout",
          "text": [
            "Kelimeyi giriniz: deneme\n",
            "denemekelimesi Türkçe'de var :)\n"
          ]
        }
      ],
      "source": [
        "dosya = \"/content/drive/MyDrive/Colab Notebooks/HU-BBY162-2024/imla/imla_kilavuzu.txt\"\n",
        "\n",
        "kilavuz = open(dosya, \"r\")\n",
        "\n",
        "test = input(\"Kelimeyi giriniz: \")\n",
        "\n",
        "for kelime in kilavuz.readlines():\n",
        "  if test == kelime.replace(\"\\n\", \"\"):\n",
        "    kontrol = 1\n",
        "    break\n",
        "  else:\n",
        "    kontrol = 0\n",
        "\n",
        "if kontrol == 1:\n",
        "  print(test + \" kelimesi Türkçe'de var :)\")\n",
        "else:\n",
        "  print(test + \" kelimesi Türkçe'de yok!\")\n",
        "\n",
        "\n",
        "\n"
      ]
    }
  ]
}