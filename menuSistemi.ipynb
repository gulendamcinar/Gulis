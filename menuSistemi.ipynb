{
  "nbformat": 4,
  "nbformat_minor": 0,
  "metadata": {
    "colab": {
      "provenance": [],
      "authorship_tag": "ABX9TyMnkrK8h+MppGry586Qt7Jh",
      "include_colab_link": true
    },
    "kernelspec": {
      "name": "python3",
      "display_name": "Python 3"
    },
    "language_info": {
      "name": "python"
    }
  },
  "cells": [
    {
      "cell_type": "markdown",
      "metadata": {
        "id": "view-in-github",
        "colab_type": "text"
      },
      "source": [
        "<a href=\"https://colab.research.google.com/github/orcunmadran/hu-bby162-2024/blob/main/menuSistemi.ipynb\" target=\"_parent\"><img src=\"https://colab.research.google.com/assets/colab-badge.svg\" alt=\"Open In Colab\"/></a>"
      ]
    },
    {
      "cell_type": "code",
      "execution_count": null,
      "metadata": {
        "id": "tJx9DIO4JaBd"
      },
      "outputs": [],
      "source": [
        "#Verinin depolanması ve yazdırılması\n",
        "\n",
        "#listenin oluşturulması\n",
        "liste = []\n",
        "\n",
        "def anaMenu():\n",
        "  print(\"1)Veri Girişi - 2)Liste Yazdir - 0) Çıkış\")\n",
        "  print(\"Lütfen seçiminizi menü öğe numarası olarak giriniz: \")\n",
        "  secilen = input(\"Menü no: \")\n",
        "  if secilen == \"1\":\n",
        "    listeKayit()\n",
        "  elif secilen == \"2\":\n",
        "    listeYazdir()\n",
        "  elif secilen == \"0\":\n",
        "    byeBye()\n",
        "  else:\n",
        "    print(\"Lütfen tanımlı bir öğe giriniz!\")\n",
        "\n",
        "def listeKayit():\n",
        "  #veri girişi ve kayıt\n",
        "  girdi = input(\"Bir kelime giriniz: \")\n",
        "  liste.append(girdi)\n",
        "  anaMenu()\n",
        "\n",
        "def listeYazdir():\n",
        "  #verilerin yazıdırılması\n",
        "  print(liste)\n",
        "  anaMenu()\n",
        "\n",
        "def byeBye():\n",
        "  print(\"Program sonlandırıldı!\")\n",
        "\n",
        "anaMenu()"
      ]
    }
  ]
}