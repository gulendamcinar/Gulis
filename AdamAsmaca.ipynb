{
  "nbformat": 4,
  "nbformat_minor": 0,
  "metadata": {
    "colab": {
      "provenance": [],
      "authorship_tag": "ABX9TyPD/kGEF77O1tjU92UPZkB2",
      "include_colab_link": true
    },
    "kernelspec": {
      "name": "python3",
      "display_name": "Python 3"
    },
    "language_info": {
      "name": "python"
    }
  },
  "cells": [
    {
      "cell_type": "markdown",
      "metadata": {
        "id": "view-in-github",
        "colab_type": "text"
      },
      "source": [
        "<a href=\"https://colab.research.google.com/github/orcunmadran/hu-bby162-2024/blob/main/AdamAsmaca.ipynb\" target=\"_parent\"><img src=\"https://colab.research.google.com/assets/colab-badge.svg\" alt=\"Open In Colab\"/></a>"
      ]
    },
    {
      "cell_type": "code",
      "execution_count": null,
      "metadata": {
        "id": "CLUufh_L_XxS"
      },
      "outputs": [],
      "source": [
        "#Adam Asmaca\n",
        "\n",
        "from random import randint\n",
        "\n",
        "adamCan = 3\n",
        "\n",
        "kelimeler = [\"bisiklet\", \"triatlon\", \"yüzme\", \"koşu\"]\n",
        "kelimeSayisi = len(kelimeler)\n",
        "secilen = randint(0, kelimeSayisi-1)\n",
        "secilenKelime = kelimeler[secilen]\n",
        "print(secilenKelime)\n",
        "dizilenKelime = []\n",
        "for diz in kelimeler[secilen]:\n",
        "    dizilenKelime.append(\"_\")\n",
        "print(dizilenKelime)\n",
        "\n",
        "while adamCan > 0:\n",
        "    girilenHarf = input(\"Bir harf giriniz: \")\n",
        "    canKontrol = girilenHarf in secilenKelime\n",
        "    if canKontrol == False:\n",
        "        adamCan-=1\n",
        "    i = 0\n",
        "    for kontrol in secilenKelime:\n",
        "        if secilenKelime[i] == girilenHarf:\n",
        "            dizilenKelime[i] = girilenHarf\n",
        "        i+=1\n",
        "    print(dizilenKelime)\n",
        "    print(\"Kalan can: \"+ str(adamCan))"
      ]
    }
  ]
}