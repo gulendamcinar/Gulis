{
  "nbformat": 4,
  "nbformat_minor": 0,
  "metadata": {
    "colab": {
      "provenance": [],
      "authorship_tag": "ABX9TyNW9JwdQrSgEajnBqjqQ6Ez",
      "include_colab_link": true
    },
    "kernelspec": {
      "name": "python3",
      "display_name": "Python 3"
    },
    "language_info": {
      "name": "python"
    }
  },
  "cells": [
    {
      "cell_type": "markdown",
      "metadata": {
        "id": "view-in-github",
        "colab_type": "text"
      },
      "source": [
        "<a href=\"https://colab.research.google.com/github/orcunmadran/hu-bby162-2024/blob/main/listeIslemleri.ipynb\" target=\"_parent\"><img src=\"https://colab.research.google.com/assets/colab-badge.svg\" alt=\"Open In Colab\"/></a>"
      ]
    },
    {
      "cell_type": "code",
      "source": [
        "#Listenin oluşturulması / sıfırlanması\n",
        "konusanlar = []"
      ],
      "metadata": {
        "id": "N5NTA7Kw_GOt"
      },
      "execution_count": null,
      "outputs": []
    },
    {
      "cell_type": "code",
      "source": [
        "#Listenin yazdırılması\n",
        "print(konusanlar)"
      ],
      "metadata": {
        "id": "0vWVsa8__Md_"
      },
      "execution_count": null,
      "outputs": []
    },
    {
      "cell_type": "code",
      "execution_count": null,
      "metadata": {
        "id": "dZ1TejAR9u-c"
      },
      "outputs": [],
      "source": [
        "#Listeye yeni bir öğe eklenmesi\n",
        "konusan = input(\"Konuşan kişinin adını giriniz: \")\n",
        "konusanlar.append(konusan)"
      ]
    },
    {
      "cell_type": "code",
      "source": [
        "#Listedeki bir öğenin silinmesi\n",
        "print(konusanlar)\n",
        "silinecek = int(input(\"Silmek istediğiniz kişinin sıra numarasını giriniz: \"))\n",
        "print(\"Silinecek kişi: \" + konusanlar[silinecek-1])\n",
        "del konusanlar[silinecek-1]\n",
        "print(\"Silme tamamlandı\")\n",
        "print(konusanlar)"
      ],
      "metadata": {
        "id": "AoVlwvZ9ERAB"
      },
      "execution_count": null,
      "outputs": []
    },
    {
      "cell_type": "code",
      "source": [
        "#Listedeki bir öğenin güncellenmesi\n",
        "print(konusanlar)\n",
        "guncellenecek = int(input(\"Güncellemek istediğiniz kişinin sıra numarasını giriniz: \"))\n",
        "print(\"Güncellenecek kişi: \" + konusanlar[guncellenecek-1])\n",
        "guncelIcerik = input(\"Güncel kişi bilgisini giriniz: \")\n",
        "konusanlar[guncellenecek-1] = guncelIcerik\n",
        "print(\"Güncelleme tamamlandı\")\n",
        "print(konusanlar)"
      ],
      "metadata": {
        "id": "aCCe6CnMAS_K"
      },
      "execution_count": null,
      "outputs": []
    }
  ]
}