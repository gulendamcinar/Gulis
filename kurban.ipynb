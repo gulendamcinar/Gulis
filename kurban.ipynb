{
  "nbformat": 4,
  "nbformat_minor": 0,
  "metadata": {
    "colab": {
      "provenance": [],
      "authorship_tag": "ABX9TyMEpo6BN2R/3ayFETfYNfV3",
      "include_colab_link": true
    },
    "kernelspec": {
      "name": "python3",
      "display_name": "Python 3"
    },
    "language_info": {
      "name": "python"
    }
  },
  "cells": [
    {
      "cell_type": "markdown",
      "metadata": {
        "id": "view-in-github",
        "colab_type": "text"
      },
      "source": [
        "<a href=\"https://colab.research.google.com/github/orcunmadran/hu-bby162-2024/blob/main/kurban.ipynb\" target=\"_parent\"><img src=\"https://colab.research.google.com/assets/colab-badge.svg\" alt=\"Open In Colab\"/></a>"
      ]
    },
    {
      "cell_type": "code",
      "execution_count": 21,
      "metadata": {
        "colab": {
          "base_uri": "https://localhost:8080/"
        },
        "id": "9O_00mEwaVNj",
        "outputId": "f2f6dfc9-e161-4f7c-95c0-898bd893629d"
      },
      "outputs": [
        {
          "output_type": "stream",
          "name": "stdout",
          "text": [
            "[' RENGİN DİNÇ', ' SUDENAZ BERİN AYDIN', ' DİLARA ÜZER', ' UÇMAN ÇÖPLÜ', ' MUSTAFA YILDIRIM']\n"
          ]
        }
      ],
      "source": [
        "import random\n",
        "liste = [' MİHRİBAN CİVAROĞLU',\n",
        "' TANKUT YAĞIZ EROL',\n",
        "' İREM AYTEKİN',\n",
        "' YÜSRA TÜRK',\n",
        "' HAVVA NUR ÇOLAK',\n",
        "' YILMAZ KABAYEL',\n",
        "' RENGİN DİNÇ',\n",
        "' ZAHİDENUR NACAK',\n",
        "' MUSTAFA YILDIRIM',\n",
        "' DÖNAY CANBOLAT',\n",
        "' BUSE DALKILIÇ',\n",
        "' ALEYNA ÇİFCİ',\n",
        "' DİLARA ÜZER',\n",
        "' GÖZDENUR KAHRAMAN',\n",
        "' BENGİSU KÖSEM',\n",
        "' MELİS AÇIKMEŞE',\n",
        "' AYŞENUR ERDEM',\n",
        "' SEMANUR KOÇAK',\n",
        "' RANA ÖZEN',\n",
        "' AHMED NESİM ORUÇ',\n",
        "' NEZAKET OKUR',\n",
        "' İREM SAGUN',\n",
        "' ŞEVVAL LAMİA KORKMAZ',\n",
        "' ŞEVVAL DEMETGÜL',\n",
        "' MİNA YILMAZ',\n",
        "' ALPER KALAYCI',\n",
        "' ZEYNEP SILA DEREKÖY',\n",
        "' DOĞANUR ÇELİK',\n",
        "' ESRA SUCU',\n",
        "' ENES TALHA ÖRDEK',\n",
        "' MEHMET KURT',\n",
        "' BEYZANUR AKPINAR',\n",
        "' SEMANUR BEKER',\n",
        "' UÇMAN ÇÖPLÜ',\n",
        "' ZEYNEP TAŞKIN',\n",
        "' SUDENAZ BERİN AYDIN',\n",
        "' SELÇUK GÜNDÜZ']\n",
        "\n",
        "#print(random.choice(liste))\n",
        "\n",
        "def kurbansec(kurbansayisi):\n",
        "  kurbanlar = []\n",
        "  for i in range(int(kurbansayisi)):\n",
        "    kurbanlar.append(random.choice(liste))\n",
        "  return kurbanlar\n",
        "\n",
        "print(kurbansec(5))\n",
        "\n",
        "\n"
      ]
    }
  ]
}