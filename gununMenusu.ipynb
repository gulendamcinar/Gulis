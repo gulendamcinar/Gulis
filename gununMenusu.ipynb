{
  "nbformat": 4,
  "nbformat_minor": 0,
  "metadata": {
    "colab": {
      "provenance": [],
      "authorship_tag": "ABX9TyM4dDI4m1sjvA6j6Opfsr06",
      "include_colab_link": true
    },
    "kernelspec": {
      "name": "python3",
      "display_name": "Python 3"
    },
    "language_info": {
      "name": "python"
    }
  },
  "cells": [
    {
      "cell_type": "markdown",
      "metadata": {
        "id": "view-in-github",
        "colab_type": "text"
      },
      "source": [
        "<a href=\"https://colab.research.google.com/github/orcunmadran/hu-bby162-2024/blob/main/gununMenusu.ipynb\" target=\"_parent\"><img src=\"https://colab.research.google.com/assets/colab-badge.svg\" alt=\"Open In Colab\"/></a>"
      ]
    },
    {
      "cell_type": "code",
      "execution_count": null,
      "metadata": {
        "id": "NM37j7SzcgHM"
      },
      "outputs": [],
      "source": [
        "from random import choice\n",
        "\n",
        "def menuGoster(i=7):\n",
        "  menuGunleri = [\"Pazartesi\", \"Salı\", \"Çarşamba\", \"Perşembe\", \"Cuma\", \"Cumartesi\", \"Pazar\"]\n",
        "  menuGunleri = menuGunleri[:i]\n",
        "  corbalar = [\"c1\",\"c2\",\"c3\",\"c4\",\"c5\",\"c6\",\"c7\",\"c8\",\"c9\",\"c10\"]\n",
        "  anaYemekler = [\"a1\",\"a2\",\"a3\",\"a4\",\"a5\",\"a6\",\"a7\",\"a8\",\"a9\",\"a10\"]\n",
        "  garniturler = [\"g1\",\"g2\",\"g3\",\"g4\",\"g5\",\"g6\",\"g7\",\"g8\",\"g9\",\"g10\"]\n",
        "  tatlilar = [\"t1\",\"t2\",\"t3\",\"t4\",\"t5\",\"t6\",\"t7\",\"t8\",\"t9\",\"t10\"]\n",
        "  for gun in menuGunleri:\n",
        "    print(\"{}\\n---------- \\nÇorba: {}\\nAna Yemek: {}\\nGarnitür: {}\\nTatli: {}\\n\".format(gun, choice(corbalar), choice(anaYemekler), choice(garniturler), choice(tatlilar)))\n",
        "\n",
        "menuGoster(5)"
      ]
    }
  ]
}