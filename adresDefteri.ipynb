{
  "nbformat": 4,
  "nbformat_minor": 0,
  "metadata": {
    "colab": {
      "provenance": [],
      "mount_file_id": "1HsQrij86Ir2GjrZ5nbDdaPki191DQUk4",
      "authorship_tag": "ABX9TyMb8WmeAmMB+hFYjSKazsm6",
      "include_colab_link": true
    },
    "kernelspec": {
      "name": "python3",
      "display_name": "Python 3"
    },
    "language_info": {
      "name": "python"
    }
  },
  "cells": [
    {
      "cell_type": "markdown",
      "metadata": {
        "id": "view-in-github",
        "colab_type": "text"
      },
      "source": [
        "<a href=\"https://colab.research.google.com/github/orcunmadran/hu-bby162-2024/blob/main/adresDefteri.ipynb\" target=\"_parent\"><img src=\"https://colab.research.google.com/assets/colab-badge.svg\" alt=\"Open In Colab\"/></a>"
      ]
    },
    {
      "cell_type": "code",
      "source": [
        "#Dosya Yolu\n",
        "\n",
        "dosya = \"/content/drive/MyDrive/Colab Notebooks/HU-BBY162-2024/veritabani/adresDefteri.txt\"\n"
      ],
      "metadata": {
        "id": "ok4on8ntXtia"
      },
      "execution_count": 3,
      "outputs": []
    },
    {
      "cell_type": "code",
      "execution_count": 2,
      "metadata": {
        "id": "oTmWfvVeWwxv"
      },
      "outputs": [],
      "source": [
        "#Dosyanın oluşturulması ve temizlenmesi\n",
        "\n",
        "sistem = open(dosya, \"w\")\n",
        "sistem.close()"
      ]
    },
    {
      "cell_type": "code",
      "source": [
        "#Yeni Kayıt Ekleme\n",
        "\n",
        "adSoyad = input(\"Adınızı soyadınızı giriniz: \")\n",
        "ePosta = input(\"E-posta adresinizi giriniz: \")\n",
        "\n",
        "dosyaYaz = open(dosya, \"a\")\n",
        "dosyaYaz.write(adSoyad+\" - \"+ePosta+\"\\n\")\n",
        "dosyaYaz.close()"
      ],
      "metadata": {
        "colab": {
          "base_uri": "https://localhost:8080/"
        },
        "id": "RoG1rD9lX3PJ",
        "outputId": "9cb48495-c409-4365-c067-74c24bdffaab"
      },
      "execution_count": 8,
      "outputs": [
        {
          "name": "stdout",
          "output_type": "stream",
          "text": [
            "Adınızı soyadınızı giriniz: Rafet Madran\n",
            "E-posta adresinizi giriniz: rafet@madran.net\n"
          ]
        }
      ]
    },
    {
      "cell_type": "code",
      "source": [
        "#Kayıtları Okuma\n",
        "\n",
        "dosyaOku = open(dosya, \"r\")\n",
        "\n",
        "for satir in dosyaOku.readlines():\n",
        "  print(satir)\n",
        "\n",
        "dosyaOku.close()"
      ],
      "metadata": {
        "colab": {
          "base_uri": "https://localhost:8080/"
        },
        "id": "DLdl3sB4ZUF3",
        "outputId": "64ab9759-54ca-4b22-d59a-d760d946d0d8"
      },
      "execution_count": 9,
      "outputs": [
        {
          "output_type": "stream",
          "name": "stdout",
          "text": [
            "Orçun Madran - orcunmadran@gmail.com\n",
            "\n",
            "Rafet Madran - rafet@madran.net\n",
            "\n"
          ]
        }
      ]
    }
  ]
}